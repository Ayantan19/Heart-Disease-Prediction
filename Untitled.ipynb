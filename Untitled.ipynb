{
 "cells": [
  {
   "cell_type": "code",
   "execution_count": 20,
   "metadata": {},
   "outputs": [
    {
     "data": {
      "text/plain": [
       "'All Features - Train Test Split'"
      ]
     },
     "execution_count": 20,
     "metadata": {},
     "output_type": "execute_result"
    }
   ],
   "source": [
    "'''All Features - Train Test Split'''"
   ]
  },
  {
   "cell_type": "code",
   "execution_count": 1,
   "metadata": {
    "collapsed": true
   },
   "outputs": [],
   "source": [
    "import pandas as pd\n",
    "import numpy as np\n",
    "import matplotlib.pyplot as plt\n",
    "\n",
    "from sklearn.feature_selection import SelectFromModel\n",
    "\n",
    "from sklearn.model_selection import train_test_split\n",
    "from sklearn.linear_model import LogisticRegression\n",
    "from sklearn.ensemble import RandomForestClassifier\n",
    "from sklearn.neighbors import KNeighborsClassifier\n",
    "from sklearn.naive_bayes import GaussianNB\n",
    "from sklearn.metrics import accuracy_score\n",
    "from sklearn.tree import DecisionTreeClassifier\n",
    "from sklearn.svm import SVC\n",
    "from sklearn import metrics\n",
    "\n",
    "columns = [\"age\", \"sex\", \"cp\", \"restbp\", \"chol\", \"fbs\", \"restecg\", \n",
    "           \"thalach\", \"exang\", \"oldpeak\", \"slope\", \"ca\", \"thal\", \"num\"]\n",
    "data = pd.read_table(\"data/heart_disease_all14.csv\",sep=',', header=None, names=columns)"
   ]
  },
  {
   "cell_type": "code",
   "execution_count": 2,
   "metadata": {},
   "outputs": [
    {
     "name": "stdout",
     "output_type": "stream",
     "text": [
      "(299, 13)\n",
      "(299, 1)\n",
      "<class 'pandas.core.frame.DataFrame'>\n",
      "<class 'pandas.core.frame.DataFrame'>\n",
      "0.0    160\n",
      "1.0    139\n",
      "Name: num, dtype: int64\n",
      "0.0    0.535117\n",
      "1.0    0.464883\n",
      "Name: num, dtype: float64\n",
      "0.0    117\n",
      "1.0    107\n",
      "Name: num, dtype: int64\n",
      "0.0    0.522321\n",
      "1.0    0.477679\n",
      "Name: num, dtype: float64\n",
      "float64\n",
      "(224, 13)\n",
      "(224, 1)\n",
      "(75, 13)\n",
      "(75, 1)\n"
     ]
    },
    {
     "name": "stderr",
     "output_type": "stream",
     "text": [
      "/home/ayantan/anaconda2/lib/python2.7/site-packages/pandas/core/generic.py:3924: SettingWithCopyWarning: \n",
      "A value is trying to be set on a copy of a slice from a DataFrame\n",
      "\n",
      "See the caveats in the documentation: http://pandas.pydata.org/pandas-docs/stable/indexing.html#indexing-view-versus-copy\n",
      "  self._update_inplace(new_data)\n"
     ]
    }
   ],
   "source": [
    "feature_cols = [\"age\", \"sex\", \"cp\", \"restbp\", \"chol\", \"fbs\", \"restecg\", \n",
    "                \"thalach\", \"exang\", \"oldpeak\", \"slope\", \"ca\", \"thal\"]\n",
    "target_col = [\"num\"]\n",
    "x = data[feature_cols]\n",
    "y = data[target_col]\n",
    "\n",
    "#print y_train.num.value_counts()\n",
    "#print y.num.value_counts(normalize=True)\n",
    "\n",
    "y['num'].replace([2.0,3.0,4.0],[1.0,1.0,1.0],inplace=True)\n",
    "\n",
    "#print y_train.num.value_counts()\n",
    "#print y.num.value_counts(normalize=True)\n",
    "\n",
    "print x.shape\n",
    "print y.shape\n",
    "print type(x)\n",
    "print type(y)\n",
    "print y.num.value_counts()\n",
    "print y.num.value_counts(normalize=True)\n",
    "x_train, x_test, y_train, y_test = train_test_split(x, y, random_state=2)\n",
    "\n",
    "#print y_train.num.describe()\n",
    "print y_train.num.value_counts()\n",
    "print y_train.num.value_counts(normalize=True)\n",
    "print y_train.num.dtypes\n",
    "#print y_train.head\n",
    "#print type(y_train.loc[278,'num'])\n",
    "#print y_train.loc[278,'num']\n",
    "print x_train.shape\n",
    "print y_train.shape\n",
    "print x_test.shape\n",
    "print y_test.shape\n"
   ]
  },
  {
   "cell_type": "code",
   "execution_count": null,
   "metadata": {
    "collapsed": true
   },
   "outputs": [],
   "source": []
  },
  {
   "cell_type": "code",
   "execution_count": 3,
   "metadata": {},
   "outputs": [
    {
     "data": {
      "text/plain": [
       "DecisionTreeClassifier(class_weight=None, criterion='gini', max_depth=None,\n",
       "            max_features=None, max_leaf_nodes=None,\n",
       "            min_impurity_decrease=0.0, min_impurity_split=None,\n",
       "            min_samples_leaf=1, min_samples_split=2,\n",
       "            min_weight_fraction_leaf=0.0, presort=False, random_state=None,\n",
       "            splitter='best')"
      ]
     },
     "execution_count": 3,
     "metadata": {},
     "output_type": "execute_result"
    }
   ],
   "source": [
    "dtc = DecisionTreeClassifier()\n",
    "dtc.fit(x_train,y_train)"
   ]
  },
  {
   "cell_type": "code",
   "execution_count": 4,
   "metadata": {},
   "outputs": [
    {
     "data": {
      "text/plain": [
       "0.69333333333333336"
      ]
     },
     "execution_count": 4,
     "metadata": {},
     "output_type": "execute_result"
    }
   ],
   "source": [
    "dtc.score(x_test,y_test)"
   ]
  },
  {
   "cell_type": "code",
   "execution_count": null,
   "metadata": {
    "collapsed": true
   },
   "outputs": [],
   "source": []
  },
  {
   "cell_type": "code",
   "execution_count": 5,
   "metadata": {},
   "outputs": [
    {
     "name": "stdout",
     "output_type": "stream",
     "text": [
      "[ 1.  0.  0.  0.  1.  0.  0.  1.  1.  0.  0.  0.  0.  0.  1.  1.  0.  1.\n",
      "  1.  0.  0.  0.  1.  0.  0.  0.  0.  1.  0.  1.  1.  0.  1.  0.  0.  0.\n",
      "  1.  1.  1.  0.  0.  0.  0.  0.  1.  0.  0.  0.  0.  1.  0.  0.  0.  0.\n",
      "  1.  1.  1.  1.  1.  0.  0.  1.  1.  0.  1.  1.  1.  1.  1.  0.  1.  0.\n",
      "  1.  1.  0.]\n",
      "             precision    recall  f1-score   support\n",
      "\n",
      "        0.0       0.81      0.83      0.82        42\n",
      "        1.0       0.78      0.76      0.77        33\n",
      "\n",
      "avg / total       0.80      0.80      0.80        75\n",
      "\n",
      "0.8\n",
      "0.8\n"
     ]
    },
    {
     "name": "stderr",
     "output_type": "stream",
     "text": [
      "/home/ayantan/anaconda2/lib/python2.7/site-packages/sklearn/utils/validation.py:578: DataConversionWarning: A column-vector y was passed when a 1d array was expected. Please change the shape of y to (n_samples, ), for example using ravel().\n",
      "  y = column_or_1d(y, warn=True)\n"
     ]
    }
   ],
   "source": [
    "logreg = LogisticRegression()\n",
    "model = logreg.fit(x_train, y_train)\n",
    "yPredict = model.predict(x_test)\n",
    "print yPredict\n",
    "print metrics.classification_report(yPredict,y_test)\n",
    "print accuracy_score(yPredict,y_test)\n",
    "print model.score(x_test,y_test)"
   ]
  },
  {
   "cell_type": "code",
   "execution_count": 6,
   "metadata": {},
   "outputs": [
    {
     "name": "stdout",
     "output_type": "stream",
     "text": [
      "<type 'numpy.ndarray'>\n",
      "             precision    recall  f1-score   support\n",
      "\n",
      "        0.0       0.79      0.83      0.81        41\n",
      "        1.0       0.78      0.74      0.76        34\n",
      "\n",
      "avg / total       0.79      0.79      0.79        75\n",
      "\n",
      "0.786666666667\n",
      "0.786666666667\n"
     ]
    }
   ],
   "source": [
    "svm = SVC(kernel='linear')\n",
    "model = svm.fit(x_train, y_train)\n",
    "yPredict = model.predict(x_test)\n",
    "print type(yPredict)\n",
    "print metrics.classification_report(yPredict,y_test)\n",
    "print accuracy_score(yPredict,y_test)\n",
    "print model.score(x_test,y_test)"
   ]
  },
  {
   "cell_type": "code",
   "execution_count": 7,
   "metadata": {},
   "outputs": [
    {
     "name": "stdout",
     "output_type": "stream",
     "text": [
      "<type 'numpy.ndarray'>\n",
      "             precision    recall  f1-score   support\n",
      "\n",
      "        0.0       0.84      0.90      0.87        40\n",
      "        1.0       0.88      0.80      0.84        35\n",
      "\n",
      "avg / total       0.85      0.85      0.85        75\n",
      "\n",
      "0.853333333333\n",
      "0.853333333333\n"
     ]
    }
   ],
   "source": [
    "gnb = GaussianNB()\n",
    "model = gnb.fit(x_train, y_train)\n",
    "yPredict = model.predict(x_test)\n",
    "print type(yPredict)\n",
    "print metrics.classification_report(yPredict,y_test)\n",
    "print accuracy_score(yPredict,y_test)\n",
    "print model.score(x_test,y_test)"
   ]
  },
  {
   "cell_type": "code",
   "execution_count": 9,
   "metadata": {},
   "outputs": [
    {
     "name": "stdout",
     "output_type": "stream",
     "text": [
      "<type 'numpy.ndarray'>\n",
      "             precision    recall  f1-score   support\n",
      "\n",
      "        0.0       0.81      0.71      0.76        49\n",
      "        1.0       0.56      0.69      0.62        26\n",
      "\n",
      "avg / total       0.73      0.71      0.71        75\n",
      "\n",
      "0.706666666667\n",
      "0.706666666667\n"
     ]
    },
    {
     "name": "stderr",
     "output_type": "stream",
     "text": [
      "/home/ayantan/anaconda2/lib/python2.7/site-packages/ipykernel_launcher.py:2: DataConversionWarning: A column-vector y was passed when a 1d array was expected. Please change the shape of y to (n_samples, ), for example using ravel().\n",
      "  \n"
     ]
    }
   ],
   "source": [
    "knn = KNeighborsClassifier(n_neighbors=23)\n",
    "model = knn.fit(x_train, y_train)\n",
    "yPredict = model.predict(x_test)\n",
    "print type(yPredict)\n",
    "print metrics.classification_report(yPredict,y_test)\n",
    "print accuracy_score(yPredict,y_test)\n",
    "print model.score(x_test,y_test)"
   ]
  },
  {
   "cell_type": "code",
   "execution_count": 10,
   "metadata": {},
   "outputs": [
    {
     "name": "stdout",
     "output_type": "stream",
     "text": [
      "[0.64000000000000001, 0.59999999999999998, 0.64000000000000001, 0.62666666666666671, 0.64000000000000001, 0.66666666666666663, 0.66666666666666663, 0.65333333333333332, 0.66666666666666663, 0.68000000000000005, 0.69333333333333336, 0.70666666666666667, 0.66666666666666663, 0.66666666666666663, 0.66666666666666663, 0.69333333333333336, 0.70666666666666667, 0.68000000000000005, 0.70666666666666667, 0.69333333333333336, 0.70666666666666667, 0.69333333333333336, 0.70666666666666667, 0.73333333333333328, 0.71999999999999997, 0.73333333333333328, 0.70666666666666667, 0.69333333333333336, 0.65333333333333332, 0.65333333333333332, 0.66666666666666663, 0.64000000000000001, 0.62666666666666671, 0.64000000000000001, 0.66666666666666663, 0.64000000000000001, 0.68000000000000005, 0.68000000000000005, 0.64000000000000001, 0.64000000000000001, 0.64000000000000001, 0.61333333333333329, 0.65333333333333332, 0.65333333333333332, 0.65333333333333332, 0.65333333333333332, 0.64000000000000001, 0.64000000000000001, 0.64000000000000001, 0.64000000000000001, 0.62666666666666671, 0.64000000000000001, 0.64000000000000001, 0.64000000000000001, 0.64000000000000001, 0.62666666666666671, 0.66666666666666663, 0.65333333333333332, 0.65333333333333332]\n"
     ]
    },
    {
     "name": "stderr",
     "output_type": "stream",
     "text": [
      "/home/ayantan/anaconda2/lib/python2.7/site-packages/ipykernel_launcher.py:5: DataConversionWarning: A column-vector y was passed when a 1d array was expected. Please change the shape of y to (n_samples, ), for example using ravel().\n",
      "  \"\"\"\n"
     ]
    }
   ],
   "source": [
    "k_range = range(1,60)\n",
    "k_scores = []\n",
    "for k in k_range:\n",
    "    knn = KNeighborsClassifier(n_neighbors=k)\n",
    "    model = knn.fit(x_train, y_train)\n",
    "    yPredict = model.predict(x_test)\n",
    "    scores = model.score(x_test,y_test)\n",
    "    k_scores.append(scores.mean())\n",
    "print k_scores"
   ]
  },
  {
   "cell_type": "code",
   "execution_count": 11,
   "metadata": {},
   "outputs": [
    {
     "data": {
      "text/plain": [
       "Text(0,0.5,u'Accuracy')"
      ]
     },
     "execution_count": 11,
     "metadata": {},
     "output_type": "execute_result"
    },
    {
     "data": {
      "image/png": "[encoded data removed]",
      "text/plain": [
       "<matplotlib.figure.Figure at 0x7fb6e6953890>"
      ]
     },
     "metadata": {},
     "output_type": "display_data"
    }
   ],
   "source": [
    "%matplotlib inline\n",
    "plt.plot(k_range,k_scores)\n",
    "plt.xlabel('Value of K for KNN')\n",
    "plt.ylabel('Accuracy')"
   ]
  },
  {
   "cell_type": "code",
   "execution_count": 17,
   "metadata": {},
   "outputs": [
    {
     "name": "stdout",
     "output_type": "stream",
     "text": [
      "<type 'numpy.ndarray'>\n",
      "             precision    recall  f1-score   support\n",
      "\n",
      "        0.0       0.77      0.89      0.82        37\n",
      "        1.0       0.88      0.74      0.80        38\n",
      "\n",
      "avg / total       0.82      0.81      0.81        75\n",
      "\n",
      "0.813333333333\n",
      "0.813333333333\n"
     ]
    },
    {
     "name": "stderr",
     "output_type": "stream",
     "text": [
      "/home/ayantan/anaconda2/lib/python2.7/site-packages/ipykernel_launcher.py:2: DataConversionWarning: A column-vector y was passed when a 1d array was expected. Please change the shape of y to (n_samples,), for example using ravel().\n",
      "  \n"
     ]
    }
   ],
   "source": [
    "rf = RandomForestClassifier(n_estimators=23)\n",
    "model = rf.fit(x_train, y_train)\n",
    "yPredict = model.predict(x_test)\n",
    "print type(yPredict)\n",
    "print metrics.classification_report(yPredict,y_test)\n",
    "print accuracy_score(yPredict,y_test)\n",
    "print model.score(x_test,y_test)"
   ]
  },
  {
   "cell_type": "code",
   "execution_count": 18,
   "metadata": {},
   "outputs": [
    {
     "name": "stderr",
     "output_type": "stream",
     "text": [
      "/home/ayantan/anaconda2/lib/python2.7/site-packages/ipykernel_launcher.py:5: DataConversionWarning: A column-vector y was passed when a 1d array was expected. Please change the shape of y to (n_samples,), for example using ravel().\n",
      "  \"\"\"\n"
     ]
    },
    {
     "name": "stdout",
     "output_type": "stream",
     "text": [
      "[0.77333333333333332, 0.80000000000000004, 0.76000000000000001, 0.76000000000000001, 0.81333333333333335, 0.80000000000000004, 0.73333333333333328, 0.80000000000000004, 0.78666666666666663, 0.70666666666666667, 0.73333333333333328, 0.78666666666666663, 0.80000000000000004, 0.77333333333333332, 0.80000000000000004, 0.80000000000000004, 0.80000000000000004, 0.7466666666666667, 0.70666666666666667, 0.78666666666666663, 0.83999999999999997, 0.82666666666666666, 0.81333333333333335, 0.78666666666666663, 0.81333333333333335, 0.81333333333333335, 0.78666666666666663, 0.82666666666666666, 0.78666666666666663, 0.80000000000000004, 0.81333333333333335, 0.78666666666666663, 0.78666666666666663, 0.8666666666666667, 0.80000000000000004, 0.81333333333333335, 0.82666666666666666, 0.78666666666666663, 0.81333333333333335, 0.80000000000000004, 0.76000000000000001, 0.80000000000000004, 0.76000000000000001, 0.82666666666666666, 0.80000000000000004, 0.85333333333333339, 0.80000000000000004, 0.80000000000000004, 0.78666666666666663]\n"
     ]
    }
   ],
   "source": [
    "rf_range = range(1,50)\n",
    "rf_scores = []\n",
    "for t in rf_range:\n",
    "    rf = RandomForestClassifier(n_estimators=t)\n",
    "    model = rf.fit(x_train, y_train)\n",
    "    scores = model.score(x_test,y_test)\n",
    "    rf_scores.append(scores.mean())\n",
    "print rf_scores"
   ]
  },
  {
   "cell_type": "code",
   "execution_count": 19,
   "metadata": {},
   "outputs": [
    {
     "data": {
      "text/plain": [
       "Text(0,0.5,u'Accuracy')"
      ]
     },
     "execution_count": 19,
     "metadata": {},
     "output_type": "execute_result"
    },
    {
     "data": {
      "image/png": "[encoded data removed]",
      "text/plain": [
       "<matplotlib.figure.Figure at 0x7fb6deaca790>"
      ]
     },
     "metadata": {},
     "output_type": "display_data"
    }
   ],
   "source": [
    "plt.plot(rf_range,rf_scores)\n",
    "plt.xlabel('No. of tree in the forest')\n",
    "plt.ylabel('Accuracy')"
   ]
  },
  {
   "cell_type": "code",
   "execution_count": null,
   "metadata": {
    "collapsed": true
   },
   "outputs": [],
   "source": []
  }
 ],
 "metadata": {
  "kernelspec": {
   "display_name": "Python 2",
   "language": "python",
   "name": "python2"
  },
  "language_info": {
   "codemirror_mode": {
    "name": "ipython",
    "version": 2
   },
   "file_extension": ".py",
   "mimetype": "text/x-python",
   "name": "python",
   "nbconvert_exporter": "python",
   "pygments_lexer": "ipython2",
   "version": "2.7.14"
  }
 },
 "nbformat": 4,
 "nbformat_minor": 2
}
