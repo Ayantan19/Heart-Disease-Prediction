{
 "cells": [
  {
   "cell_type": "code",
   "execution_count": 19,
   "metadata": {},
   "outputs": [
    {
     "data": {
      "text/plain": [
       "'Chi Square - cross Validation'"
      ]
     },
     "execution_count": 19,
     "metadata": {},
     "output_type": "execute_result"
    }
   ],
   "source": [
    "'''Chi Square - cross Validation'''"
   ]
  },
  {
   "cell_type": "code",
   "execution_count": 5,
   "metadata": {},
   "outputs": [],
   "source": [
    "import pandas as pd\n",
    "import numpy as np\n",
    "import matplotlib.pyplot as plt\n",
    "\n",
    "from sklearn.naive_bayes import GaussianNB\n",
    "from sklearn.linear_model import LogisticRegression\n",
    "from sklearn.ensemble import RandomForestClassifier\n",
    "from sklearn.neighbors import KNeighborsClassifier\n",
    "from sklearn.tree import DecisionTreeClassifier\n",
    "from sklearn.svm import SVC\n",
    "\n",
    "from sklearn.metrics import accuracy_score\n",
    "from sklearn import metrics\n",
    "from sklearn.cross_validation import KFold\n",
    "from sklearn.cross_validation import cross_val_score\n",
    "\n",
    "from sklearn.feature_selection import SelectKBest\n",
    "from sklearn.feature_selection import chi2"
   ]
  },
  {
   "cell_type": "code",
   "execution_count": 6,
   "metadata": {
    "collapsed": true
   },
   "outputs": [],
   "source": [
    "columns = [\"age\", \"sex\", \"cp\", \"restbp\", \"chol\", \"fbs\", \"restecg\", \n",
    "           \"thalach\", \"exang\", \"oldpeak\", \"slope\", \"ca\", \"thal\", \"num\"]\n",
    "data = pd.read_table(\"data/heart_disease_all14.csv\",sep=',', header=None, names=columns)"
   ]
  },
  {
   "cell_type": "code",
   "execution_count": 7,
   "metadata": {},
   "outputs": [
    {
     "name": "stdout",
     "output_type": "stream",
     "text": [
      "(299, 13)\n",
      "(299, 1)\n",
      "0.0    160\n",
      "1.0     56\n",
      "3.0     35\n",
      "2.0     35\n",
      "4.0     13\n",
      "Name: num, dtype: int64\n",
      "0.0    0.535117\n",
      "1.0    0.187291\n",
      "3.0    0.117057\n",
      "2.0    0.117057\n",
      "4.0    0.043478\n",
      "Name: num, dtype: float64\n",
      "float64\n"
     ]
    }
   ],
   "source": [
    "feature_cols = [\"age\", \"sex\", \"cp\", \"restbp\", \"chol\", \"fbs\", \"restecg\", \n",
    "                \"thalach\", \"exang\", \"oldpeak\", \"slope\", \"ca\", \"thal\"]\n",
    "target_col = [\"num\"]\n",
    "x = data[feature_cols]\n",
    "y = data[target_col]\n",
    "\n",
    "print x.shape\n",
    "print y.shape\n",
    "\n",
    "print y.num.value_counts()\n",
    "print y.num.value_counts(normalize=True)\n",
    "print y.num.dtypes"
   ]
  },
  {
   "cell_type": "code",
   "execution_count": 8,
   "metadata": {},
   "outputs": [
    {
     "name": "stdout",
     "output_type": "stream",
     "text": [
      "0.0    160\n",
      "1.0    139\n",
      "Name: num, dtype: int64\n",
      "0.0    0.535117\n",
      "1.0    0.464883\n",
      "Name: num, dtype: float64\n",
      "float64\n",
      "<class 'pandas.core.frame.DataFrame'>\n"
     ]
    }
   ],
   "source": [
    "y['num'].replace([2.0,3.0,4.0],[1.0,1.0,1.0],inplace=True)\n",
    "print y.num.value_counts()\n",
    "print y.num.value_counts(normalize=True)\n",
    "print y.num.dtypes\n",
    "print type(y)"
   ]
  },
  {
   "cell_type": "code",
   "execution_count": null,
   "metadata": {
    "collapsed": true
   },
   "outputs": [],
   "source": []
  },
  {
   "cell_type": "code",
   "execution_count": null,
   "metadata": {},
   "outputs": [],
   "source": []
  },
  {
   "cell_type": "code",
   "execution_count": null,
   "metadata": {
    "collapsed": true
   },
   "outputs": [],
   "source": []
  },
  {
   "cell_type": "code",
   "execution_count": 9,
   "metadata": {},
   "outputs": [
    {
     "name": "stdout",
     "output_type": "stream",
     "text": [
      "[  2.22634682e+01   7.62952320e+00   1.49026690e+01   1.68675519e+01\n",
      "   1.51157324e+01   9.41107579e-06   7.43274004e+00   1.97354493e+02\n",
      "   3.64868873e+01   6.87339064e+01   7.97353455e+00   8.07902967e+01\n",
      "   6.66017624e+01]\n"
     ]
    }
   ],
   "source": [
    "m = SelectKBest(chi2, k=6)\n",
    "m.fit(x,y)\n",
    "print m.scores_"
   ]
  },
  {
   "cell_type": "code",
   "execution_count": 10,
   "metadata": {},
   "outputs": [
    {
     "name": "stdout",
     "output_type": "stream",
     "text": [
      "(299, 6)\n",
      "[  2.22634682e+01   7.62952320e+00   1.49026690e+01   1.68675519e+01\n",
      "   1.51157324e+01   9.41107579e-06   7.43274004e+00   1.97354493e+02\n",
      "   3.64868873e+01   6.87339064e+01   7.97353455e+00   8.07902967e+01\n",
      "   6.66017624e+01]\n"
     ]
    }
   ],
   "source": [
    "x_new = m.transform(x)\n",
    "print x_new.shape\n",
    "print m.scores_"
   ]
  },
  {
   "cell_type": "code",
   "execution_count": 22,
   "metadata": {},
   "outputs": [
    {
     "name": "stdout",
     "output_type": "stream",
     "text": [
      "0.765862068966\n"
     ]
    }
   ],
   "source": [
    "dtc = DecisionTreeClassifier()\n",
    "print cross_val_score(dtc, x, y.num, scoring='accuracy',cv=10).mean()"
   ]
  },
  {
   "cell_type": "code",
   "execution_count": 12,
   "metadata": {},
   "outputs": [
    {
     "name": "stdout",
     "output_type": "stream",
     "text": [
      "0.799425287356\n"
     ]
    }
   ],
   "source": [
    "gnb = GaussianNB()\n",
    "print cross_val_score(gnb, x_new, y.num, cv=10).mean()"
   ]
  },
  {
   "cell_type": "code",
   "execution_count": 13,
   "metadata": {},
   "outputs": [
    {
     "name": "stdout",
     "output_type": "stream",
     "text": [
      "0.836206896552\n"
     ]
    }
   ],
   "source": [
    "logreg = LogisticRegression()\n",
    "print cross_val_score(logreg, x_new, y.num, cv=10).mean()"
   ]
  },
  {
   "cell_type": "code",
   "execution_count": 14,
   "metadata": {},
   "outputs": [
    {
     "name": "stdout",
     "output_type": "stream",
     "text": [
      "0.839655172414\n"
     ]
    }
   ],
   "source": [
    "svm = SVC(kernel='linear')\n",
    "print cross_val_score(svm, x_new, y.num, scoring='accuracy',cv=10).mean()"
   ]
  },
  {
   "cell_type": "code",
   "execution_count": null,
   "metadata": {
    "collapsed": true
   },
   "outputs": [],
   "source": []
  },
  {
   "cell_type": "code",
   "execution_count": 15,
   "metadata": {},
   "outputs": [
    {
     "name": "stdout",
     "output_type": "stream",
     "text": [
      "0.675402298851\n"
     ]
    }
   ],
   "source": [
    "svm = SVC()\n",
    "print cross_val_score(svm, x_new, y.num, scoring='accuracy',cv=10).mean()"
   ]
  },
  {
   "cell_type": "code",
   "execution_count": 16,
   "metadata": {},
   "outputs": [
    {
     "name": "stdout",
     "output_type": "stream",
     "text": [
      "0.689195402299\n"
     ]
    }
   ],
   "source": [
    "knn = KNeighborsClassifier(n_neighbors=23)\n",
    "print cross_val_score(knn, x, y.num, scoring='accuracy',cv=10).mean()"
   ]
  },
  {
   "cell_type": "code",
   "execution_count": 17,
   "metadata": {},
   "outputs": [
    {
     "name": "stdout",
     "output_type": "stream",
     "text": [
      "[0.58517241379310347, 0.57517241379310335, 0.63896551724137929, 0.65908045977011487, 0.67620689655172406, 0.65275862068965518, 0.67287356321839076, 0.67241379310344829, 0.64919540229885053, 0.67252873563218396, 0.67586206896551726, 0.66597701149425292, 0.67252873563218396, 0.67597701149425293, 0.66252873563218384, 0.66586206896551725, 0.67586206896551726, 0.67574712643678159, 0.6824137931034483, 0.68574712643678171, 0.67229885057471273, 0.6824137931034483, 0.68919540229885057, 0.67597701149425293, 0.6824137931034483, 0.68229885057471262, 0.6689655172413792, 0.65551724137931022, 0.64551724137931032, 0.65551724137931022, 0.66540229885057467, 0.6486206896551725, 0.65183908045977013, 0.64850574712643672, 0.65850574712643684, 0.6519540229885058, 0.64517241379310342, 0.64528735632183909, 0.64183908045977012, 0.65517241379310343, 0.64850574712643683, 0.64517241379310342, 0.63850574712643682, 0.64183908045977001, 0.6552873563218391, 0.6619540229885057, 0.65873563218390796, 0.65540229885057466, 0.65206896551724136, 0.63862068965517238, 0.64528735632183909, 0.65218390804597703, 0.65218390804597692, 0.65206896551724136, 0.65206896551724136, 0.65206896551724136, 0.64862068965517239, 0.62862068965517248, 0.63195402298850578]\n"
     ]
    }
   ],
   "source": [
    "k_range = range(1,60)\n",
    "k_scores = []\n",
    "for k in k_range:\n",
    "    knn = KNeighborsClassifier(n_neighbors=k)\n",
    "    scores = cross_val_score(knn, x, y.num, scoring='accuracy',cv=10)\n",
    "    k_scores.append(scores.mean())\n",
    "print k_scores"
   ]
  },
  {
   "cell_type": "code",
   "execution_count": 18,
   "metadata": {},
   "outputs": [
    {
     "data": {
      "text/plain": [
       "Text(0,0.5,u'Cross Validation Accuracy')"
      ]
     },
     "execution_count": 18,
     "metadata": {},
     "output_type": "execute_result"
    },
    {
     "data": {
      "image/png": "[encoded data removed]",
      "text/plain": [
       "<matplotlib.figure.Figure at 0x7faa80327090>"
      ]
     },
     "metadata": {},
     "output_type": "display_data"
    }
   ],
   "source": [
    "%matplotlib inline\n",
    "plt.plot(k_range,k_scores)\n",
    "plt.xlabel('Value of K for KNN')\n",
    "plt.ylabel('Cross Validation Accuracy')"
   ]
  },
  {
   "cell_type": "code",
   "execution_count": 14,
   "metadata": {},
   "outputs": [
    {
     "name": "stdout",
     "output_type": "stream",
     "text": [
      "0.812873563218\n"
     ]
    }
   ],
   "source": [
    "rf = RandomForestClassifier(n_estimators=23)\n",
    "print cross_val_score(rf, x_new, y.num, scoring='accuracy',cv=10).mean()"
   ]
  },
  {
   "cell_type": "code",
   "execution_count": 15,
   "metadata": {},
   "outputs": [
    {
     "name": "stdout",
     "output_type": "stream",
     "text": [
      "[0.71252873563218377, 0.71597701149425297, 0.75287356321839083, 0.76954022988505744, 0.74287356321839082, 0.77597701149425291, 0.76632183908045981, 0.80275862068965531, 0.80287356321839076, 0.79287356321839086, 0.78632183908045994, 0.79298850574712654, 0.75931034482758619, 0.77977011494252879, 0.78632183908045972, 0.77620689655172415, 0.77942528735632188, 0.79954022988505746, 0.77287356321839074, 0.79298850574712654, 0.78942528735632189, 0.79287356321839086, 0.76620689655172414, 0.78942528735632189, 0.78298850574712642, 0.80965517241379314, 0.77609195402298847, 0.78298850574712642, 0.79632183908045984, 0.78620689655172415, 0.77620689655172415, 0.78620689655172415, 0.75620689655172413, 0.76942528735632176]\n"
     ]
    }
   ],
   "source": [
    "rf_range = range(1,35)\n",
    "rf_scores = []\n",
    "for t in rf_range:\n",
    "    rf = RandomForestClassifier(n_estimators=t)\n",
    "    scores = cross_val_score(rf, x_new, y.num, scoring='accuracy',cv=10)\n",
    "    rf_scores.append(scores.mean())\n",
    "print rf_scores"
   ]
  },
  {
   "cell_type": "code",
   "execution_count": 16,
   "metadata": {},
   "outputs": [
    {
     "data": {
      "text/plain": [
       "Text(0,0.5,u'Cross Validation Accuracy')"
      ]
     },
     "execution_count": 16,
     "metadata": {},
     "output_type": "execute_result"
    },
    {
     "data": {
      "image/png": "[encoded data removed]",
      "text/plain": [
       "<matplotlib.figure.Figure at 0x7f422798e190>"
      ]
     },
     "metadata": {},
     "output_type": "display_data"
    }
   ],
   "source": [
    "plt.plot(rf_range,rf_scores)\n",
    "plt.xlabel('No. of tree in the forest')\n",
    "plt.ylabel('Cross Validation Accuracy')"
   ]
  },
  {
   "cell_type": "code",
   "execution_count": null,
   "metadata": {
    "collapsed": true
   },
   "outputs": [],
   "source": []
  }
 ],
 "metadata": {
  "kernelspec": {
   "display_name": "Python 2",
   "language": "python",
   "name": "python2"
  },
  "language_info": {
   "codemirror_mode": {
    "name": "ipython",
    "version": 2
   },
   "file_extension": ".py",
   "mimetype": "text/x-python",
   "name": "python",
   "nbconvert_exporter": "python",
   "pygments_lexer": "ipython2",
   "version": "2.7.14"
  }
 },
 "nbformat": 4,
 "nbformat_minor": 2
}
